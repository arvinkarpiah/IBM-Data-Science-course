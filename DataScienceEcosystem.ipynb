{
 "cells": [
  {
   "cell_type": "markdown",
   "id": "ecfb853c-62d2-496c-b7aa-39f42d1ce25f",
   "metadata": {},
   "source": [
    "# Data Science Tools and Ecosystem"
   ]
  },
  {
   "cell_type": "markdown",
   "id": "c9549659-63e9-47e4-841e-18e1c8266493",
   "metadata": {},
   "source": [
    "## In this notebook, Data Science Tools and Ecosystem are summarized."
   ]
  },
  {
   "cell_type": "markdown",
   "id": "7f28b410-0ee7-4cf1-ac29-a1c3100d3a9f",
   "metadata": {},
   "source": [
    "# **Objectives**:"
   ]
  },
  {
   "cell_type": "markdown",
   "id": "b5f5059b-56f5-43ec-968e-b60ccf2d3883",
   "metadata": {},
   "source": [
    "- List popular languages for Data Science\n",
    "- List  commonly used libraries used by Data Scientists\n",
    "- How to evaluate arithmetic expressions in Python\n"
   ]
  },
  {
   "cell_type": "markdown",
   "id": "8372dd35-2d34-4e4b-9b8f-cfba93fed1d9",
   "metadata": {},
   "source": [
    "### Some of the popular languages that Data Scientists use are:\n",
    "\n"
   ]
  },
  {
   "cell_type": "markdown",
   "id": "4fa14ea6-263b-4f6d-b655-07b73d8e3ee0",
   "metadata": {},
   "source": [
    "1. Python\n",
    "2. R\n",
    "3. Julia\n",
    "4. C++"
   ]
  },
  {
   "cell_type": "markdown",
   "id": "38769fe0-ef12-4a93-9e4b-4cd735490b41",
   "metadata": {},
   "source": [
    "### Some of the commonly used libraries used by Data Scientists include:"
   ]
  },
  {
   "cell_type": "markdown",
   "id": "01fc046b-e230-48fe-ab4f-57554a505cb2",
   "metadata": {},
   "source": [
    "1. NumPy\n",
    "2. Matplotlib\n",
    "3. Pandas"
   ]
  },
  {
   "cell_type": "markdown",
   "id": "9385146a-eb32-404b-bf4e-f443dc580ea3",
   "metadata": {},
   "source": [
    "|Data Science Tools |\n",
    "|-------------------|\n",
    "|Jupyter Notebook   |\n",
    "|Spark              |\n",
    "|Hadoop             |"
   ]
  },
  {
   "cell_type": "markdown",
   "id": "8024df9d-ac29-4554-b7dd-2f48e490b66e",
   "metadata": {},
   "source": [
    "### Below are a few examples of evaluating arithmetic expressions in Python"
   ]
  },
  {
   "cell_type": "code",
   "execution_count": 2,
   "id": "004da9d8-a167-4d0f-9477-cef92c7f0937",
   "metadata": {},
   "outputs": [
    {
     "data": {
      "text/plain": [
       "17"
      ]
     },
     "execution_count": 2,
     "metadata": {},
     "output_type": "execute_result"
    }
   ],
   "source": [
    "# This a simple arithmetic expression to mutiply then add integers\n",
    "\n",
    "(3*4)+5"
   ]
  },
  {
   "cell_type": "code",
   "execution_count": 3,
   "id": "cd776a6c-a833-4790-96a6-e4c881384b7f",
   "metadata": {},
   "outputs": [
    {
     "data": {
      "text/plain": [
       "3.3333333333333335"
      ]
     },
     "execution_count": 3,
     "metadata": {},
     "output_type": "execute_result"
    }
   ],
   "source": [
    "# This will convert 200 minutes to hours by diving by 60\n",
    "\n",
    "200/60"
   ]
  },
  {
   "cell_type": "markdown",
   "id": "16e46b04-78dd-4d08-bf53-17ffcd101724",
   "metadata": {},
   "source": [
    "## Author\n",
    "Arvin Karpiah"
   ]
  },
  {
   "cell_type": "code",
   "execution_count": null,
   "id": "6512b4d8-940a-4ece-b0d8-7c8c62ac30e2",
   "metadata": {},
   "outputs": [],
   "source": []
  }
 ],
 "metadata": {
  "kernelspec": {
   "display_name": "Python 3 (ipykernel)",
   "language": "python",
   "name": "python3"
  },
  "language_info": {
   "codemirror_mode": {
    "name": "ipython",
    "version": 3
   },
   "file_extension": ".py",
   "mimetype": "text/x-python",
   "name": "python",
   "nbconvert_exporter": "python",
   "pygments_lexer": "ipython3",
   "version": "3.12.8"
  }
 },
 "nbformat": 4,
 "nbformat_minor": 5
}
